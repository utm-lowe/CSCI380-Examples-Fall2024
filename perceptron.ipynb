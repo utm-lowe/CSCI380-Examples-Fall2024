{
 "cells": [
  {
   "cell_type": "code",
   "execution_count": 2,
   "metadata": {},
   "outputs": [],
   "source": [
    "import numpy as np"
   ]
  },
  {
   "cell_type": "code",
   "execution_count": 7,
   "metadata": {},
   "outputs": [],
   "source": [
    "class Perceptron:\n",
    "    def __init__(self, n, th=0.5, lr=0.1):\n",
    "        self.w = np.random.rand(n)\n",
    "        self.th = th\n",
    "        self.lr = lr\n",
    "    \n",
    "    def compute(self, x):\n",
    "        if np.dot(np.array(x), self.w) > self.th:\n",
    "            return 1\n",
    "        return 0\n",
    "    \n",
    "    def train(self, training):\n",
    "        \"\"\"\n",
    "        Training array is a set of vectors, where the last element is the\n",
    "        correct answer.\n",
    "        \"\"\"\n",
    "        for t in training:\n",
    "            y = self.compute(np.array(t[0:-1]))\n",
    "            for i in range(len(self.w)):\n",
    "                self.w += self.lr * (t[-1]-y)*t[i]"
   ]
  },
  {
   "cell_type": "markdown",
   "metadata": {},
   "source": [
    "Let's teach the perceptron to be an and gate!\n",
    "0 0 => 0\n",
    "0 1 => 0\n",
    "1 0 => 0\n",
    "1 1 => 1"
   ]
  },
  {
   "cell_type": "code",
   "execution_count": 6,
   "metadata": {},
   "outputs": [],
   "source": [
    "# make a two input perceptron\n",
    "ap = Perceptron(2)"
   ]
  },
  {
   "cell_type": "code",
   "execution_count": 13,
   "metadata": {},
   "outputs": [
    {
     "name": "stdout",
     "output_type": "stream",
     "text": [
      "[0, 0, 0] -> 0\n",
      "[0, 1, 0] -> 0\n",
      "[1, 0, 0] -> 0\n",
      "[1, 1, 1] -> 1\n",
      "[0, 0, 0] -> 0\n",
      "[0, 1, 0] -> 0\n",
      "[1, 0, 0] -> 0\n",
      "[1, 1, 1] -> 1\n"
     ]
    },
    {
     "data": {
      "text/plain": [
       "0.0"
      ]
     },
     "execution_count": 13,
     "metadata": {},
     "output_type": "execute_result"
    }
   ],
   "source": [
    "aptrain = [[0,0,0],\n",
    "           [0,1,0],\n",
    "           [1,0,0],\n",
    "           [1,1,1]]\n",
    "def perceptron_test(p, training):\n",
    "    error = 0\n",
    "    for t in training:\n",
    "        y = p.compute(t[0:-1])\n",
    "        print(\"{} -> {}\".format(t, y))\n",
    "        error += t[-1]-y\n",
    "    return error / len(training)\n",
    "\n",
    "perceptron_test(ap, aptrain)\n",
    "ap.train(aptrain)\n",
    "perceptron_test(ap, aptrain)"
   ]
  }
 ],
 "metadata": {
  "kernelspec": {
   "display_name": ".venv",
   "language": "python",
   "name": "python3"
  },
  "language_info": {
   "codemirror_mode": {
    "name": "ipython",
    "version": 3
   },
   "file_extension": ".py",
   "mimetype": "text/x-python",
   "name": "python",
   "nbconvert_exporter": "python",
   "pygments_lexer": "ipython3",
   "version": "3.12.7"
  }
 },
 "nbformat": 4,
 "nbformat_minor": 2
}
