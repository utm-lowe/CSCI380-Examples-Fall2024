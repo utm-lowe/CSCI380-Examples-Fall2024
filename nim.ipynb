{
 "cells": [
  {
   "cell_type": "markdown",
   "metadata": {},
   "source": [
    "# The Game of NIM\n",
    "Nim is a classic mathematical strategy game, variants of which have been played since ancient times. The game itself is rather simple, and you don't need much equiment to play it. The idea is that you have `n` piles of things (seeds, stones, coins, etc.) The first pile has one item in it, the second has two, and so on. You can easily adjust the game by increasing or decreasing the number of piles. For example, a 3 pile game may look like this:\n",
    "\n",
    "```\n",
    "1: *\n",
    "2: **\n",
    "3: ***\n",
    "```\n",
    "\n",
    "In the game of nim, players take turns. On your turn you must remove any number of things from one pile. The object of the game is to not take the last stone. "
   ]
  },
  {
   "cell_type": "markdown",
   "metadata": {},
   "source": [
    "## Creating the Board\n",
    "Our first task is to create a board that can represent and play an `n` pile game of nim. We will also add a handy function to compute all of the possible moves in the game. Moves are specified as the values `r` and `n` which means \"take `n` stones from row `r`.\""
   ]
  },
  {
   "cell_type": "code",
   "execution_count": 1,
   "metadata": {},
   "outputs": [],
   "source": [
    "from copy import copy\n",
    "\n",
    "class Nim:\n",
    "    def __init__(self, rows=3, board=None):\n",
    "        \"\"\"\n",
    "        Generate a nim board with a given number of rows. If board is specified, \n",
    "        it copies the board instead.\n",
    "        \"\"\"\n",
    "        if board is not None:\n",
    "            self.board = copy(board.board)\n",
    "        else:\n",
    "            self.board = []\n",
    "            for i in range(rows):\n",
    "                self.board.append(i+1)\n",
    "    \n",
    "    def __str__(self):\n",
    "        \"\"\"\n",
    "        Generate a string representation of the nim board\n",
    "        \"\"\"\n",
    "        lines = []\n",
    "        for i in range(len(self.board)):\n",
    "            lines.append(\"{}: {}\".format(i+1, '*'*self.board[i]))\n",
    "        return \"\\n\".join(lines)\n",
    "\n",
    "    def moves(self):\n",
    "        \"\"\"\n",
    "        Return a list of valid moves as (r,n) tuples where \n",
    "        r - Row number\n",
    "        n - Number of stones to take\n",
    "        \"\"\"\n",
    "        return [(r+1,n) for r in range(len(self.board)) for n in range(1, self.board[r]+1)]\n",
    "    \n",
    "    def move(self, r, n):\n",
    "        \"\"\"\n",
    "        Remove n stones from row r.\n",
    "        \"\"\"\n",
    "        r = r-1\n",
    "        if r>=0 and r<len(self.board) and n <= self.board[r]:\n",
    "            self.board[r] -= n"
   ]
  },
  {
   "cell_type": "markdown",
   "metadata": {},
   "source": [
    "## Playing the Game\n",
    "We will make a general turn based game that can be played between two agents. The game will continue while there are still stones, and it will declare a winner (either player 1 or player 2).\n",
    "\n",
    "Agent functions will have this form `def agent(board):` The percept for each ply is the current board state. The agent will return a move, which will assume is valid."
   ]
  },
  {
   "cell_type": "code",
   "execution_count": 2,
   "metadata": {},
   "outputs": [],
   "source": [
    "def play_nim(n, p1, p2):\n",
    "    \"\"\"\n",
    "    Play the two agent functions against each other in an n row game of nim, \n",
    "    printing the board before each move.\n",
    "    \"\"\"\n",
    "    to_move = 1\n",
    "    last = 2\n",
    "    board = Nim(n)\n",
    "    while len(board.moves()) != 0:\n",
    "        print(board)\n",
    "        last = to_move\n",
    "        if to_move == 1:\n",
    "            r,n = p1(board)\n",
    "            to_move = 2\n",
    "        else:\n",
    "            r,n = p2(board)\n",
    "            to_move =1\n",
    "        print(\"Player {} takes {} from pile {}.\".format(last, n, r))\n",
    "        board.move(r,n)\n",
    "    print(\"Player {} wins!\".format(to_move))"
   ]
  },
  {
   "cell_type": "markdown",
   "metadata": {},
   "source": [
    "## A Human Player\n",
    "Why should we let the machine have all the fun? Let's write a human player for our little nim game! This will prompt the player for an r,n pair and will validate the move. Once we have a valid move, it will return it. "
   ]
  },
  {
   "cell_type": "code",
   "execution_count": 3,
   "metadata": {},
   "outputs": [],
   "source": [
    "def human(board):\n",
    "    done = False\n",
    "    while not done:\n",
    "        r,n = eval(input(\"Enter r,n: \"))\n",
    "        done = (r,n) in board.moves()\n",
    "    return r,n\n",
    "    "
   ]
  },
  {
   "cell_type": "markdown",
   "metadata": {},
   "source": [
    "Let's play a 3 row human-human game of nim."
   ]
  },
  {
   "cell_type": "code",
   "execution_count": 4,
   "metadata": {},
   "outputs": [
    {
     "name": "stdout",
     "output_type": "stream",
     "text": [
      "1: *\n",
      "2: **\n",
      "3: ***\n"
     ]
    },
    {
     "name": "stdout",
     "output_type": "stream",
     "text": [
      "Player 1 takes 1 from pile 2.\n",
      "1: *\n",
      "2: *\n",
      "3: ***\n",
      "Player 2 takes 2 from pile 3.\n",
      "1: *\n",
      "2: *\n",
      "3: *\n",
      "Player 1 takes 1 from pile 1.\n",
      "1: \n",
      "2: *\n",
      "3: *\n",
      "Player 2 takes 1 from pile 2.\n",
      "1: \n",
      "2: \n",
      "3: *\n",
      "Player 1 takes 1 from pile 3.\n",
      "Player 2 wins!\n"
     ]
    }
   ],
   "source": [
    "play_nim(3,human,human)"
   ]
  },
  {
   "cell_type": "markdown",
   "metadata": {},
   "source": [
    "## The Task: Write a Minimax agent to play nim.\n",
    "Now, let's create a minimax agent to play the game of nim! Then we'll try it out against human players for a few different sizes."
   ]
  },
  {
   "cell_type": "code",
   "execution_count": 15,
   "metadata": {},
   "outputs": [],
   "source": [
    "def minimax(board):\n",
    "    \"\"\"\n",
    "    Return the minimax move for nim.\n",
    "    \"\"\"\n",
    "    def is_terminal(board):\n",
    "        return sum(board.board) == 1\n",
    "    \n",
    "    def max_value(board):\n",
    "        if is_terminal(board):\n",
    "            r,n = board.moves()[0]\n",
    "            return -1,r,n\n",
    "        vresult = -2\n",
    "        rresult = 0\n",
    "        nresult = 0\n",
    "        for r,n in board.moves():\n",
    "            # get the result of that move\n",
    "            trial = Nim(board=board)\n",
    "            trial.move(r,n)\n",
    "\n",
    "            v,r1,n1 = min_value(trial)\n",
    "            if v > vresult:\n",
    "                vresult = v\n",
    "                rresult = r\n",
    "                nresult = n\n",
    "        return vresult, rresult, nresult\n",
    "    \n",
    "    def min_value(board):\n",
    "        if is_terminal(board):\n",
    "            r,n = board.moves()[0]\n",
    "            return 1,r,n\n",
    "        vresult = 2\n",
    "        rresult = 0\n",
    "        nresult = 0\n",
    "        for r,n in board.moves():\n",
    "            # get the result of that move\n",
    "            trial = Nim(board=board)\n",
    "            trial.move(r,n)\n",
    "\n",
    "            v,r1,n1 = max_value(trial)\n",
    "            if v < vresult:\n",
    "                vresult = v\n",
    "                rresult = r\n",
    "                nresult = n\n",
    "        return vresult, rresult, nresult\n",
    "    \n",
    "    # return our maximizing move\n",
    "    v,r,n = max_value(board)\n",
    "    return r,n"
   ]
  },
  {
   "cell_type": "code",
   "execution_count": 13,
   "metadata": {},
   "outputs": [
    {
     "name": "stdout",
     "output_type": "stream",
     "text": [
      "1: *\n",
      "2: **\n",
      "3: ***\n",
      "Player 1 takes 1 from pile 3.\n",
      "1: *\n",
      "2: **\n",
      "3: **\n",
      "Player 2 takes 1 from pile 1.\n",
      "1: \n",
      "2: **\n",
      "3: **\n",
      "Player 1 takes 1 from pile 3.\n",
      "1: \n",
      "2: **\n",
      "3: *\n",
      "Player 2 takes 2 from pile 2.\n",
      "1: \n",
      "2: \n",
      "3: *\n",
      "Player 1 takes 1 from pile 3.\n",
      "Player 2 wins!\n"
     ]
    }
   ],
   "source": [
    "play_nim(3, human, minimax)"
   ]
  },
  {
   "cell_type": "code",
   "execution_count": 16,
   "metadata": {},
   "outputs": [
    {
     "name": "stdout",
     "output_type": "stream",
     "text": [
      "1: *\n",
      "2: **\n",
      "3: ***\n",
      "4: ****\n",
      "Player 1 takes 4 from pile 4.\n",
      "1: *\n",
      "2: **\n",
      "3: ***\n",
      "4: \n",
      "Player 2 takes 1 from pile 1.\n",
      "1: \n",
      "2: **\n",
      "3: ***\n",
      "4: \n",
      "Player 1 takes 1 from pile 3.\n",
      "1: \n",
      "2: **\n",
      "3: **\n",
      "4: \n",
      "Player 2 takes 1 from pile 2.\n",
      "1: \n",
      "2: *\n",
      "3: **\n",
      "4: \n",
      "Player 1 takes 2 from pile 3.\n",
      "1: \n",
      "2: *\n",
      "3: \n",
      "4: \n",
      "Player 2 takes 1 from pile 2.\n",
      "Player 1 wins!\n"
     ]
    }
   ],
   "source": [
    "play_nim(4, human, minimax)"
   ]
  },
  {
   "cell_type": "code",
   "execution_count": 18,
   "metadata": {},
   "outputs": [
    {
     "name": "stdout",
     "output_type": "stream",
     "text": [
      "1: *\n",
      "2: **\n",
      "3: ***\n",
      "4: ****\n",
      "5: *****\n",
      "6: ******\n",
      "7: *******\n",
      "8: ********\n",
      "9: *********\n",
      "10: **********\n",
      "Player 1 takes 10 from pile 10.\n",
      "1: *\n",
      "2: **\n",
      "3: ***\n",
      "4: ****\n",
      "5: *****\n",
      "6: ******\n",
      "7: *******\n",
      "8: ********\n",
      "9: *********\n",
      "10: \n"
     ]
    },
    {
     "ename": "KeyboardInterrupt",
     "evalue": "",
     "output_type": "error",
     "traceback": [
      "\u001b[0;31m---------------------------------------------------------------------------\u001b[0m",
      "\u001b[0;31mKeyboardInterrupt\u001b[0m                         Traceback (most recent call last)",
      "Cell \u001b[0;32mIn[18], line 1\u001b[0m\n\u001b[0;32m----> 1\u001b[0m \u001b[43mplay_nim\u001b[49m\u001b[43m(\u001b[49m\u001b[38;5;241;43m10\u001b[39;49m\u001b[43m,\u001b[49m\u001b[43m \u001b[49m\u001b[43mhuman\u001b[49m\u001b[43m,\u001b[49m\u001b[43m \u001b[49m\u001b[43mminimax\u001b[49m\u001b[43m)\u001b[49m\n",
      "Cell \u001b[0;32mIn[2], line 16\u001b[0m, in \u001b[0;36mplay_nim\u001b[0;34m(n, p1, p2)\u001b[0m\n\u001b[1;32m     14\u001b[0m     to_move \u001b[38;5;241m=\u001b[39m \u001b[38;5;241m2\u001b[39m\n\u001b[1;32m     15\u001b[0m \u001b[38;5;28;01melse\u001b[39;00m:\n\u001b[0;32m---> 16\u001b[0m     r,n \u001b[38;5;241m=\u001b[39m \u001b[43mp2\u001b[49m\u001b[43m(\u001b[49m\u001b[43mboard\u001b[49m\u001b[43m)\u001b[49m\n\u001b[1;32m     17\u001b[0m     to_move \u001b[38;5;241m=\u001b[39m\u001b[38;5;241m1\u001b[39m\n\u001b[1;32m     18\u001b[0m \u001b[38;5;28mprint\u001b[39m(\u001b[38;5;124m\"\u001b[39m\u001b[38;5;124mPlayer \u001b[39m\u001b[38;5;132;01m{}\u001b[39;00m\u001b[38;5;124m takes \u001b[39m\u001b[38;5;132;01m{}\u001b[39;00m\u001b[38;5;124m from pile \u001b[39m\u001b[38;5;132;01m{}\u001b[39;00m\u001b[38;5;124m.\u001b[39m\u001b[38;5;124m\"\u001b[39m\u001b[38;5;241m.\u001b[39mformat(last, n, r))\n",
      "Cell \u001b[0;32mIn[15], line 47\u001b[0m, in \u001b[0;36mminimax\u001b[0;34m(board)\u001b[0m\n\u001b[1;32m     44\u001b[0m     \u001b[38;5;28;01mreturn\u001b[39;00m vresult, rresult, nresult\n\u001b[1;32m     46\u001b[0m \u001b[38;5;66;03m# return our maximizing move\u001b[39;00m\n\u001b[0;32m---> 47\u001b[0m v,r,n \u001b[38;5;241m=\u001b[39m \u001b[43mmax_value\u001b[49m\u001b[43m(\u001b[49m\u001b[43mboard\u001b[49m\u001b[43m)\u001b[49m\n\u001b[1;32m     48\u001b[0m \u001b[38;5;28;01mreturn\u001b[39;00m r,n\n",
      "Cell \u001b[0;32mIn[15], line 20\u001b[0m, in \u001b[0;36mminimax.<locals>.max_value\u001b[0;34m(board)\u001b[0m\n\u001b[1;32m     17\u001b[0m trial \u001b[38;5;241m=\u001b[39m Nim(board\u001b[38;5;241m=\u001b[39mboard)\n\u001b[1;32m     18\u001b[0m trial\u001b[38;5;241m.\u001b[39mmove(r,n)\n\u001b[0;32m---> 20\u001b[0m v,r1,n1 \u001b[38;5;241m=\u001b[39m \u001b[43mmin_value\u001b[49m\u001b[43m(\u001b[49m\u001b[43mtrial\u001b[49m\u001b[43m)\u001b[49m\n\u001b[1;32m     21\u001b[0m \u001b[38;5;28;01mif\u001b[39;00m v \u001b[38;5;241m>\u001b[39m vresult:\n\u001b[1;32m     22\u001b[0m     vresult \u001b[38;5;241m=\u001b[39m v\n",
      "Cell \u001b[0;32mIn[15], line 39\u001b[0m, in \u001b[0;36mminimax.<locals>.min_value\u001b[0;34m(board)\u001b[0m\n\u001b[1;32m     36\u001b[0m trial \u001b[38;5;241m=\u001b[39m Nim(board\u001b[38;5;241m=\u001b[39mboard)\n\u001b[1;32m     37\u001b[0m trial\u001b[38;5;241m.\u001b[39mmove(r,n)\n\u001b[0;32m---> 39\u001b[0m v,r1,n1 \u001b[38;5;241m=\u001b[39m \u001b[43mmax_value\u001b[49m\u001b[43m(\u001b[49m\u001b[43mtrial\u001b[49m\u001b[43m)\u001b[49m\n\u001b[1;32m     40\u001b[0m \u001b[38;5;28;01mif\u001b[39;00m v \u001b[38;5;241m<\u001b[39m vresult:\n\u001b[1;32m     41\u001b[0m     vresult \u001b[38;5;241m=\u001b[39m v\n",
      "Cell \u001b[0;32mIn[15], line 20\u001b[0m, in \u001b[0;36mminimax.<locals>.max_value\u001b[0;34m(board)\u001b[0m\n\u001b[1;32m     17\u001b[0m trial \u001b[38;5;241m=\u001b[39m Nim(board\u001b[38;5;241m=\u001b[39mboard)\n\u001b[1;32m     18\u001b[0m trial\u001b[38;5;241m.\u001b[39mmove(r,n)\n\u001b[0;32m---> 20\u001b[0m v,r1,n1 \u001b[38;5;241m=\u001b[39m \u001b[43mmin_value\u001b[49m\u001b[43m(\u001b[49m\u001b[43mtrial\u001b[49m\u001b[43m)\u001b[49m\n\u001b[1;32m     21\u001b[0m \u001b[38;5;28;01mif\u001b[39;00m v \u001b[38;5;241m>\u001b[39m vresult:\n\u001b[1;32m     22\u001b[0m     vresult \u001b[38;5;241m=\u001b[39m v\n",
      "Cell \u001b[0;32mIn[15], line 39\u001b[0m, in \u001b[0;36mminimax.<locals>.min_value\u001b[0;34m(board)\u001b[0m\n\u001b[1;32m     36\u001b[0m trial \u001b[38;5;241m=\u001b[39m Nim(board\u001b[38;5;241m=\u001b[39mboard)\n\u001b[1;32m     37\u001b[0m trial\u001b[38;5;241m.\u001b[39mmove(r,n)\n\u001b[0;32m---> 39\u001b[0m v,r1,n1 \u001b[38;5;241m=\u001b[39m \u001b[43mmax_value\u001b[49m\u001b[43m(\u001b[49m\u001b[43mtrial\u001b[49m\u001b[43m)\u001b[49m\n\u001b[1;32m     40\u001b[0m \u001b[38;5;28;01mif\u001b[39;00m v \u001b[38;5;241m<\u001b[39m vresult:\n\u001b[1;32m     41\u001b[0m     vresult \u001b[38;5;241m=\u001b[39m v\n",
      "    \u001b[0;31m[... skipping similar frames: minimax.<locals>.max_value at line 20 (17 times), minimax.<locals>.min_value at line 39 (16 times)]\u001b[0m\n",
      "Cell \u001b[0;32mIn[15], line 39\u001b[0m, in \u001b[0;36mminimax.<locals>.min_value\u001b[0;34m(board)\u001b[0m\n\u001b[1;32m     36\u001b[0m trial \u001b[38;5;241m=\u001b[39m Nim(board\u001b[38;5;241m=\u001b[39mboard)\n\u001b[1;32m     37\u001b[0m trial\u001b[38;5;241m.\u001b[39mmove(r,n)\n\u001b[0;32m---> 39\u001b[0m v,r1,n1 \u001b[38;5;241m=\u001b[39m \u001b[43mmax_value\u001b[49m\u001b[43m(\u001b[49m\u001b[43mtrial\u001b[49m\u001b[43m)\u001b[49m\n\u001b[1;32m     40\u001b[0m \u001b[38;5;28;01mif\u001b[39;00m v \u001b[38;5;241m<\u001b[39m vresult:\n\u001b[1;32m     41\u001b[0m     vresult \u001b[38;5;241m=\u001b[39m v\n",
      "Cell \u001b[0;32mIn[15], line 20\u001b[0m, in \u001b[0;36mminimax.<locals>.max_value\u001b[0;34m(board)\u001b[0m\n\u001b[1;32m     17\u001b[0m trial \u001b[38;5;241m=\u001b[39m Nim(board\u001b[38;5;241m=\u001b[39mboard)\n\u001b[1;32m     18\u001b[0m trial\u001b[38;5;241m.\u001b[39mmove(r,n)\n\u001b[0;32m---> 20\u001b[0m v,r1,n1 \u001b[38;5;241m=\u001b[39m \u001b[43mmin_value\u001b[49m\u001b[43m(\u001b[49m\u001b[43mtrial\u001b[49m\u001b[43m)\u001b[49m\n\u001b[1;32m     21\u001b[0m \u001b[38;5;28;01mif\u001b[39;00m v \u001b[38;5;241m>\u001b[39m vresult:\n\u001b[1;32m     22\u001b[0m     vresult \u001b[38;5;241m=\u001b[39m v\n",
      "Cell \u001b[0;32mIn[15], line 36\u001b[0m, in \u001b[0;36mminimax.<locals>.min_value\u001b[0;34m(board)\u001b[0m\n\u001b[1;32m     33\u001b[0m nresult \u001b[38;5;241m=\u001b[39m \u001b[38;5;241m0\u001b[39m\n\u001b[1;32m     34\u001b[0m \u001b[38;5;28;01mfor\u001b[39;00m r,n \u001b[38;5;129;01min\u001b[39;00m board\u001b[38;5;241m.\u001b[39mmoves():\n\u001b[1;32m     35\u001b[0m     \u001b[38;5;66;03m# get the result of that move\u001b[39;00m\n\u001b[0;32m---> 36\u001b[0m     trial \u001b[38;5;241m=\u001b[39m \u001b[43mNim\u001b[49m\u001b[43m(\u001b[49m\u001b[43mboard\u001b[49m\u001b[38;5;241;43m=\u001b[39;49m\u001b[43mboard\u001b[49m\u001b[43m)\u001b[49m\n\u001b[1;32m     37\u001b[0m     trial\u001b[38;5;241m.\u001b[39mmove(r,n)\n\u001b[1;32m     39\u001b[0m     v,r1,n1 \u001b[38;5;241m=\u001b[39m max_value(trial)\n",
      "Cell \u001b[0;32mIn[1], line 4\u001b[0m, in \u001b[0;36mNim.__init__\u001b[0;34m(self, rows, board)\u001b[0m\n\u001b[1;32m      3\u001b[0m \u001b[38;5;28;01mclass\u001b[39;00m \u001b[38;5;21;01mNim\u001b[39;00m:\n\u001b[0;32m----> 4\u001b[0m     \u001b[38;5;28;01mdef\u001b[39;00m \u001b[38;5;21m__init__\u001b[39m(\u001b[38;5;28mself\u001b[39m, rows\u001b[38;5;241m=\u001b[39m\u001b[38;5;241m3\u001b[39m, board\u001b[38;5;241m=\u001b[39m\u001b[38;5;28;01mNone\u001b[39;00m):\n\u001b[1;32m      5\u001b[0m \u001b[38;5;250m        \u001b[39m\u001b[38;5;124;03m\"\"\"\u001b[39;00m\n\u001b[1;32m      6\u001b[0m \u001b[38;5;124;03m        Generate a nim board with a given number of rows. If board is specified, \u001b[39;00m\n\u001b[1;32m      7\u001b[0m \u001b[38;5;124;03m        it copies the board instead.\u001b[39;00m\n\u001b[1;32m      8\u001b[0m \u001b[38;5;124;03m        \"\"\"\u001b[39;00m\n\u001b[1;32m      9\u001b[0m         \u001b[38;5;28;01mif\u001b[39;00m board \u001b[38;5;129;01mis\u001b[39;00m \u001b[38;5;129;01mnot\u001b[39;00m \u001b[38;5;28;01mNone\u001b[39;00m:\n",
      "\u001b[0;31mKeyboardInterrupt\u001b[0m: "
     ]
    }
   ],
   "source": [
    "play_nim(10, human, minimax)"
   ]
  }
 ],
 "metadata": {
  "kernelspec": {
   "display_name": "Python 3",
   "language": "python",
   "name": "python3"
  },
  "language_info": {
   "codemirror_mode": {
    "name": "ipython",
    "version": 3
   },
   "file_extension": ".py",
   "mimetype": "text/x-python",
   "name": "python",
   "nbconvert_exporter": "python",
   "pygments_lexer": "ipython3",
   "version": "3.12.1"
  }
 },
 "nbformat": 4,
 "nbformat_minor": 2
}
