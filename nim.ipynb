{
 "cells": [
  {
   "cell_type": "markdown",
   "metadata": {},
   "source": [
    "# The Game of NIM\n",
    "Nim is a classic mathematical strategy game, variants of which have been played since ancient times. The game itself is rather simple, and you don't need much equiment to play it. The idea is that you have `n` piles of things (seeds, stones, coins, etc.) The first pile has one item in it, the second has two, and so on. You can easily adjust the game by increasing or decreasing the number of piles. For example, a 3 pile game may look like this:\n",
    "\n",
    "```\n",
    "1: *\n",
    "2: **\n",
    "3: ***\n",
    "```\n",
    "\n",
    "In the game of nim, players take turns. On your turn you must remove any number of things from one pile. The object of the game is to not take the last stone. "
   ]
  },
  {
   "cell_type": "markdown",
   "metadata": {},
   "source": [
    "## Creating the Board\n",
    "Our first task is to create a board that can represent and play an `n` pile game of nim. We will also add a handy function to compute all of the possible moves in the game. Moves are specified as the values `r` and `n` which means \"take `n` stones from row `r`.\""
   ]
  },
  {
   "cell_type": "code",
   "execution_count": 35,
   "metadata": {},
   "outputs": [],
   "source": [
    "from copy import copy\n",
    "\n",
    "class Nim:\n",
    "    def __init__(self, rows=3, board=None):\n",
    "        \"\"\"\n",
    "        Generate a nim board with a given number of rows. If board is specified, \n",
    "        it copies the board instead.\n",
    "        \"\"\"\n",
    "        if board is not None:\n",
    "            self.board = copy(board.board)\n",
    "        else:\n",
    "            self.board = []\n",
    "            for i in range(rows):\n",
    "                self.board.append(i+1)\n",
    "    \n",
    "    def __str__(self):\n",
    "        \"\"\"\n",
    "        Generate a string representation of the nim board\n",
    "        \"\"\"\n",
    "        lines = []\n",
    "        for i in range(len(self.board)):\n",
    "            lines.append(\"{}: {}\".format(i+1, '*'*self.board[i]))\n",
    "        return \"\\n\".join(lines)\n",
    "\n",
    "    def moves(self):\n",
    "        \"\"\"\n",
    "        Return a list of valid moves as (r,n) tuples where \n",
    "        r - Row number\n",
    "        n - Number of stones to take\n",
    "        \"\"\"\n",
    "        return [(r+1,n) for r in range(len(self.board)) for n in range(1, self.board[r]+1)]\n",
    "    \n",
    "    def move(self, r, n):\n",
    "        \"\"\"\n",
    "        Remove n stones from row r.\n",
    "        \"\"\"\n",
    "        r = r-1\n",
    "        if r>=0 and r<len(self.board) and n <= self.board[r]:\n",
    "            self.board[r] -= n"
   ]
  },
  {
   "cell_type": "markdown",
   "metadata": {},
   "source": [
    "## Playing the Game\n",
    "We will make a general turn based game that can be played between two agents. The game will continue while there are still stones, and it will declare a winner (either player 1 or player 2).\n",
    "\n",
    "Agent functions will have this form `def agent(board):` The percept for each ply is the current board state. The agent will return a move, which will assume is valid."
   ]
  },
  {
   "cell_type": "code",
   "execution_count": 28,
   "metadata": {},
   "outputs": [],
   "source": [
    "def play_nim(n, p1, p2):\n",
    "    \"\"\"\n",
    "    Play the two agent functions against each other in an n row game of nim, \n",
    "    printing the board before each move.\n",
    "    \"\"\"\n",
    "    to_move = 1\n",
    "    last = 2\n",
    "    board = Nim(n)\n",
    "    while len(board.moves()) != 0:\n",
    "        print(board)\n",
    "        last = to_move\n",
    "        if to_move == 1:\n",
    "            r,n = p1(board)\n",
    "            to_move = 2\n",
    "        else:\n",
    "            r,n = p2(board)\n",
    "            to_move =1\n",
    "        print(\"Player {} takes {} from pile {}.\".format(last, n, r))\n",
    "        board.move(r,n)\n",
    "    print(\"Player {} wins!\".format(to_move))"
   ]
  },
  {
   "cell_type": "markdown",
   "metadata": {},
   "source": [
    "## A Human Player\n",
    "Why should we let the machine have all the fun? Let's write a human player for our little nim game! This will prompt the player for an r,n pair and will validate the move. Once we have a valid move, it will return it. "
   ]
  },
  {
   "cell_type": "code",
   "execution_count": 29,
   "metadata": {},
   "outputs": [],
   "source": [
    "def human(board):\n",
    "    done = False\n",
    "    while not done:\n",
    "        r,n = eval(input(\"Enter r,n: \"))\n",
    "        done = (r,n) in board.moves()\n",
    "    return r,n\n",
    "    "
   ]
  },
  {
   "cell_type": "markdown",
   "metadata": {},
   "source": [
    "Let's play a 3 row human-human game of nim."
   ]
  },
  {
   "cell_type": "code",
   "execution_count": 30,
   "metadata": {},
   "outputs": [
    {
     "name": "stdout",
     "output_type": "stream",
     "text": [
      "1: *\n",
      "2: **\n",
      "3: ***\n"
     ]
    },
    {
     "name": "stdout",
     "output_type": "stream",
     "text": [
      "Player 1 takes 1 from pile 1.\n",
      "1: \n",
      "2: **\n",
      "3: ***\n",
      "Player 2 takes 2 from pile 2.\n",
      "1: \n",
      "2: \n",
      "3: ***\n",
      "Player 1 takes 3 from pile 3.\n",
      "Player 2 wins!\n"
     ]
    }
   ],
   "source": [
    "play_nim(3,human,human)"
   ]
  },
  {
   "cell_type": "markdown",
   "metadata": {},
   "source": [
    "## The Task: Write a Minimax agent to play nim.\n",
    "Now, let's create a minimax agent to play the game of nim! Then we'll try it out against human players for a few different sizes."
   ]
  },
  {
   "cell_type": "code",
   "execution_count": 31,
   "metadata": {},
   "outputs": [],
   "source": [
    "def minimax(board):\n",
    "    \"\"\"\n",
    "    Return the minimax move for nim.\n",
    "    \"\"\"\n",
    "    pass"
   ]
  },
  {
   "cell_type": "code",
   "execution_count": 32,
   "metadata": {},
   "outputs": [
    {
     "name": "stdout",
     "output_type": "stream",
     "text": [
      "1: *\n",
      "2: **\n",
      "3: ***\n",
      "Player 1 takes 1 from pile 1.\n",
      "1: \n",
      "2: **\n",
      "3: ***\n"
     ]
    },
    {
     "ename": "TypeError",
     "evalue": "cannot unpack non-iterable NoneType object",
     "output_type": "error",
     "traceback": [
      "\u001b[0;31m---------------------------------------------------------------------------\u001b[0m",
      "\u001b[0;31mTypeError\u001b[0m                                 Traceback (most recent call last)",
      "Cell \u001b[0;32mIn[32], line 1\u001b[0m\n\u001b[0;32m----> 1\u001b[0m \u001b[43mplay_nim\u001b[49m\u001b[43m(\u001b[49m\u001b[38;5;241;43m3\u001b[39;49m\u001b[43m,\u001b[49m\u001b[43m \u001b[49m\u001b[43mhuman\u001b[49m\u001b[43m,\u001b[49m\u001b[43m \u001b[49m\u001b[43mminimax\u001b[49m\u001b[43m)\u001b[49m\n",
      "Cell \u001b[0;32mIn[28], line 16\u001b[0m, in \u001b[0;36mplay_nim\u001b[0;34m(n, p1, p2)\u001b[0m\n\u001b[1;32m     14\u001b[0m     to_move \u001b[38;5;241m=\u001b[39m \u001b[38;5;241m2\u001b[39m\n\u001b[1;32m     15\u001b[0m \u001b[38;5;28;01melse\u001b[39;00m:\n\u001b[0;32m---> 16\u001b[0m     r,n \u001b[38;5;241m=\u001b[39m p2(board)\n\u001b[1;32m     17\u001b[0m     to_move \u001b[38;5;241m=\u001b[39m\u001b[38;5;241m1\u001b[39m\n\u001b[1;32m     18\u001b[0m \u001b[38;5;28mprint\u001b[39m(\u001b[38;5;124m\"\u001b[39m\u001b[38;5;124mPlayer \u001b[39m\u001b[38;5;132;01m{}\u001b[39;00m\u001b[38;5;124m takes \u001b[39m\u001b[38;5;132;01m{}\u001b[39;00m\u001b[38;5;124m from pile \u001b[39m\u001b[38;5;132;01m{}\u001b[39;00m\u001b[38;5;124m.\u001b[39m\u001b[38;5;124m\"\u001b[39m\u001b[38;5;241m.\u001b[39mformat(last, n, r))\n",
      "\u001b[0;31mTypeError\u001b[0m: cannot unpack non-iterable NoneType object"
     ]
    }
   ],
   "source": [
    "play_nim(3, human, minimax)"
   ]
  },
  {
   "cell_type": "code",
   "execution_count": null,
   "metadata": {},
   "outputs": [],
   "source": [
    "play_nim(4, human, minimax)"
   ]
  },
  {
   "cell_type": "code",
   "execution_count": null,
   "metadata": {},
   "outputs": [],
   "source": [
    "play_nim(10, human, minimax)"
   ]
  }
 ],
 "metadata": {
  "kernelspec": {
   "display_name": "Python 3",
   "language": "python",
   "name": "python3"
  },
  "language_info": {
   "codemirror_mode": {
    "name": "ipython",
    "version": 3
   },
   "file_extension": ".py",
   "mimetype": "text/x-python",
   "name": "python",
   "nbconvert_exporter": "python",
   "pygments_lexer": "ipython3",
   "version": "3.12.1"
  }
 },
 "nbformat": 4,
 "nbformat_minor": 2
}
