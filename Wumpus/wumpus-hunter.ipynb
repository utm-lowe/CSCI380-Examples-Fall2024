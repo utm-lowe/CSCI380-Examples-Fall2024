{
 "cells": [
  {
   "cell_type": "code",
   "execution_count": 4,
   "metadata": {},
   "outputs": [],
   "source": [
    "from utils import *\n",
    "from logic import *\n",
    "from wumpus import WumpusWorld"
   ]
  },
  {
   "cell_type": "markdown",
   "metadata": {},
   "source": [
    "Write a function which generates a set of axioms for WumpusWorld."
   ]
  },
  {
   "cell_type": "code",
   "execution_count": 12,
   "metadata": {},
   "outputs": [
    {
     "data": {
      "text/plain": [
       "True"
      ]
     },
     "execution_count": 12,
     "metadata": {},
     "output_type": "execute_result"
    }
   ],
   "source": [
    "is_definite_clause(expr('Stench(x) & Adjacent(x,y) & Unexplored(y) ==> Wumpus(y)'))"
   ]
  },
  {
   "cell_type": "code",
   "execution_count": 6,
   "metadata": {},
   "outputs": [
    {
     "ename": "Exception",
     "evalue": "Not a definite clause: (Wumpus(x) & Stench(y))",
     "output_type": "error",
     "traceback": [
      "\u001b[0;31m---------------------------------------------------------------------------\u001b[0m",
      "\u001b[0;31mException\u001b[0m                                 Traceback (most recent call last)",
      "Cell \u001b[0;32mIn[6], line 11\u001b[0m\n\u001b[1;32m      4\u001b[0m     \u001b[38;5;66;03m#axioms.append(expr(\"Pit(x) ==> Breeze(y) & Adjacent(x,y)\"))\u001b[39;00m\n\u001b[1;32m      5\u001b[0m     \u001b[38;5;66;03m#axioms.append(expr(\"Adjacent(x,y) <=> North(x,y) | South(x,y) | West(x,y) | East(x,y)\"))\u001b[39;00m\n\u001b[1;32m      6\u001b[0m     \u001b[38;5;66;03m#axioms.append(expr(\"North(x,y) <=> South(y,x)\"))\u001b[39;00m\n\u001b[1;32m      7\u001b[0m     \u001b[38;5;66;03m#axioms.append(expr(\"West(x,y) <=> East(y,x)\"))\u001b[39;00m\n\u001b[1;32m      8\u001b[0m     \u001b[38;5;66;03m#axioms.append(expr(\"Safe(x) <=> ~Pit(x) & ~Wumpus(x)\"))\u001b[39;00m\n\u001b[1;32m      9\u001b[0m     \u001b[38;5;28;01mreturn\u001b[39;00m FolKB(axioms)\n\u001b[0;32m---> 11\u001b[0m wkb \u001b[38;5;241m=\u001b[39m \u001b[43mmake_wumpus_kb\u001b[49m\u001b[43m(\u001b[49m\u001b[43m)\u001b[49m\n\u001b[1;32m     12\u001b[0m \u001b[38;5;28mprint\u001b[39m(wkb\u001b[38;5;241m.\u001b[39mclauses)\n",
      "Cell \u001b[0;32mIn[6], line 9\u001b[0m, in \u001b[0;36mmake_wumpus_kb\u001b[0;34m()\u001b[0m\n\u001b[1;32m      3\u001b[0m axioms\u001b[38;5;241m.\u001b[39mappend(expr(\u001b[38;5;124m\"\u001b[39m\u001b[38;5;124mWumpus(x) & Stench(y)\u001b[39m\u001b[38;5;124m\"\u001b[39m))\n\u001b[1;32m      4\u001b[0m \u001b[38;5;66;03m#axioms.append(expr(\"Pit(x) ==> Breeze(y) & Adjacent(x,y)\"))\u001b[39;00m\n\u001b[1;32m      5\u001b[0m \u001b[38;5;66;03m#axioms.append(expr(\"Adjacent(x,y) <=> North(x,y) | South(x,y) | West(x,y) | East(x,y)\"))\u001b[39;00m\n\u001b[1;32m      6\u001b[0m \u001b[38;5;66;03m#axioms.append(expr(\"North(x,y) <=> South(y,x)\"))\u001b[39;00m\n\u001b[1;32m      7\u001b[0m \u001b[38;5;66;03m#axioms.append(expr(\"West(x,y) <=> East(y,x)\"))\u001b[39;00m\n\u001b[1;32m      8\u001b[0m \u001b[38;5;66;03m#axioms.append(expr(\"Safe(x) <=> ~Pit(x) & ~Wumpus(x)\"))\u001b[39;00m\n\u001b[0;32m----> 9\u001b[0m \u001b[38;5;28;01mreturn\u001b[39;00m \u001b[43mFolKB\u001b[49m\u001b[43m(\u001b[49m\u001b[43maxioms\u001b[49m\u001b[43m)\u001b[49m\n",
      "File \u001b[0;32m~/Library/CloudStorage/OneDrive-UniversityofTennessee/Classes/CSCI 380/CSCI380-Examples-Fall2024/Wumpus/logic.py:1071\u001b[0m, in \u001b[0;36mFolKB.__init__\u001b[0;34m(self, clauses)\u001b[0m\n\u001b[1;32m   1069\u001b[0m \u001b[38;5;28;01mif\u001b[39;00m clauses:\n\u001b[1;32m   1070\u001b[0m     \u001b[38;5;28;01mfor\u001b[39;00m clause \u001b[38;5;129;01min\u001b[39;00m clauses:\n\u001b[0;32m-> 1071\u001b[0m         \u001b[38;5;28;43mself\u001b[39;49m\u001b[38;5;241;43m.\u001b[39;49m\u001b[43mtell\u001b[49m\u001b[43m(\u001b[49m\u001b[43mclause\u001b[49m\u001b[43m)\u001b[49m\n",
      "File \u001b[0;32m~/Library/CloudStorage/OneDrive-UniversityofTennessee/Classes/CSCI 380/CSCI380-Examples-Fall2024/Wumpus/logic.py:1077\u001b[0m, in \u001b[0;36mFolKB.tell\u001b[0;34m(self, sentence)\u001b[0m\n\u001b[1;32m   1075\u001b[0m     \u001b[38;5;28mself\u001b[39m\u001b[38;5;241m.\u001b[39mclauses\u001b[38;5;241m.\u001b[39mappend(sentence)\n\u001b[1;32m   1076\u001b[0m \u001b[38;5;28;01melse\u001b[39;00m:\n\u001b[0;32m-> 1077\u001b[0m     \u001b[38;5;28;01mraise\u001b[39;00m \u001b[38;5;167;01mException\u001b[39;00m(\u001b[38;5;124m'\u001b[39m\u001b[38;5;124mNot a definite clause: \u001b[39m\u001b[38;5;132;01m{}\u001b[39;00m\u001b[38;5;124m'\u001b[39m\u001b[38;5;241m.\u001b[39mformat(sentence))\n",
      "\u001b[0;31mException\u001b[0m: Not a definite clause: (Wumpus(x) & Stench(y))"
     ]
    }
   ],
   "source": [
    "def make_wumpus_kb():\n",
    "    axioms = []\n",
    "    axioms.append(expr(\"Stench(x) & Adjacent(x,y) & Unexplored(y) ==> Wumpus(y)\"))\n",
    "    #axioms.append(expr(\"Pit(x) ==> Breeze(y) & Adjacent(x,y)\"))\n",
    "    #axioms.append(expr(\"Adjacent(x,y) <=> North(x,y) | South(x,y) | West(x,y) | East(x,y)\"))\n",
    "    #axioms.append(expr(\"North(x,y) <=> South(y,x)\"))\n",
    "    #axioms.append(expr(\"West(x,y) <=> East(y,x)\"))\n",
    "    #axioms.append(expr(\"Safe(x) <=> ~Pit(x) & ~Wumpus(x)\"))\n",
    "    return FolKB(axioms)\n",
    "\n",
    "wkb = make_wumpus_kb()\n",
    "print(wkb.clauses)"
   ]
  }
 ],
 "metadata": {
  "kernelspec": {
   "display_name": ".venv",
   "language": "python",
   "name": "python3"
  },
  "language_info": {
   "codemirror_mode": {
    "name": "ipython",
    "version": 3
   },
   "file_extension": ".py",
   "mimetype": "text/x-python",
   "name": "python",
   "nbconvert_exporter": "python",
   "pygments_lexer": "ipython3",
   "version": "3.12.6"
  }
 },
 "nbformat": 4,
 "nbformat_minor": 2
}
